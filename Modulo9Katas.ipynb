{
 "cells": [
  {
   "cell_type": "markdown",
   "metadata": {},
   "source": [
    "Ejercicio 1: Trabajar con argumentos en funciones"
   ]
  },
  {
   "cell_type": "code",
   "execution_count": 8,
   "metadata": {},
   "outputs": [],
   "source": [
    "def combustibles(tanque_princ, tanque_externo, tanque_hidrogeno):\n",
    "    promedio = (tanque_princ + tanque_externo + tanque_hidrogeno) / 3\n",
    "    return f\"\"\"Reporte Combustible:\n",
    "    promedio : {promedio}%\n",
    "    tanque principal : {tanque_princ}%\n",
    "    tanque externo : {tanque_externo}%\n",
    "    tanque de hidrogeno : {tanque_hidrogeno}%\n",
    "    \"\"\""
   ]
  },
  {
   "cell_type": "code",
   "execution_count": 10,
   "metadata": {},
   "outputs": [
    {
     "name": "stdout",
     "output_type": "stream",
     "text": [
      "Reporte Combustible:\n",
      "    promedio : 82.33333333333333%\n",
      "    tanque principal : 75%\n",
      "    tanque externo : 80%\n",
      "    tanque de hidrogeno : 92%\n",
      "    \n"
     ]
    }
   ],
   "source": [
    "print (combustibles(75, 80, 92))"
   ]
  },
  {
   "cell_type": "code",
   "execution_count": 11,
   "metadata": {},
   "outputs": [
    {
     "data": {
      "text/plain": [
       "79.33333333333333"
      ]
     },
     "execution_count": 11,
     "metadata": {},
     "output_type": "execute_result"
    }
   ],
   "source": [
    "def promedios(valores):\n",
    "    total = sum(valores)\n",
    "    numero_tanques = len(valores)\n",
    "    return total / numero_tanques\n",
    "\n",
    "promedios([70, 85, 83])"
   ]
  },
  {
   "cell_type": "code",
   "execution_count": 15,
   "metadata": {},
   "outputs": [
    {
     "name": "stdout",
     "output_type": "stream",
     "text": [
      "Reporte Combustible:\n",
      "    promedio = 220.0%\n",
      "    tanque principal : 85%\n",
      "    tanque externo : 70%\n",
      "    tanque de hidrogeno : 65%\n",
      "    \n"
     ]
    }
   ],
   "source": [
    "def combustibles(tanque_princ, tanque_externo, tanque_hidrogeno):\n",
    "    return f\"\"\"Reporte Combustible:\n",
    "    promedio = {promedios([tanque_princ + tanque_externo + tanque_hidrogeno])}%\n",
    "    tanque principal : {tanque_princ}%\n",
    "    tanque externo : {tanque_externo}%\n",
    "    tanque de hidrogeno : {tanque_hidrogeno}%\n",
    "    \"\"\"\n",
    "\n",
    "print(combustibles(85,70,65))"
   ]
  },
  {
   "cell_type": "markdown",
   "metadata": {},
   "source": [
    "Ejercicio 2: Trabajo con argumentos de palabra clave"
   ]
  },
  {
   "cell_type": "code",
   "execution_count": 18,
   "metadata": {},
   "outputs": [
    {
     "name": "stdout",
     "output_type": "stream",
     "text": [
      "\"\n",
      "    Mision a Marte\n",
      "    Tiempo total de viaje : 78 minutos\n",
      "    Total de combustible : 700000 galones\n",
      "    \n"
     ]
    }
   ],
   "source": [
    "def reporte(pre_lanzamiento, tiempo_vuelo, destino, tanque_externo, tanque_interno):\n",
    "    return f\"\"\"\"\n",
    "    Mision a {destino}\n",
    "    Tiempo total de viaje : {pre_lanzamiento + tiempo_vuelo} minutos\n",
    "    Total de combustible : {tanque_externo + tanque_interno} galones\n",
    "    \"\"\"\n",
    "\n",
    "print(reporte(18, 60, \"Marte\", 300000, 400000))"
   ]
  },
  {
   "cell_type": "code",
   "execution_count": 20,
   "metadata": {},
   "outputs": [
    {
     "name": "stdout",
     "output_type": "stream",
     "text": [
      "\n",
      "    Mision a Luna\n",
      "    Tiempo total de viaje: 92 minutos\n",
      "    Total de combustible: 6400000\n",
      "    \n"
     ]
    }
   ],
   "source": [
    "def reporte(destino, *minutos, **combustible_reserva):\n",
    "    return f\"\"\"\n",
    "    Mision a {destino}\n",
    "    Tiempo total de viaje: {sum(minutos)} minutos\n",
    "    Total de combustible: {sum(combustible_reserva.values())}\n",
    "    \"\"\"\n",
    "\n",
    "print(reporte(\"Luna\", 12, 20, 60, interno = 400000, externo = 6000000))\n"
   ]
  },
  {
   "cell_type": "code",
   "execution_count": 21,
   "metadata": {},
   "outputs": [
    {
     "name": "stdout",
     "output_type": "stream",
     "text": [
      "\n",
      "    Mision a Marte\n",
      "    Tiempo total de viaje: 49 minutos\n",
      "    Total de combustible: 400000\n",
      "    interno tanque --> 300000 galones restantes\n",
      "externo tanque --> 100000 galones restantes\n",
      "\n"
     ]
    }
   ],
   "source": [
    "def reporte(destino, *minutos, **combustible_reserva):\n",
    "    reporte_principal = f\"\"\"\n",
    "    Mision a {destino}\n",
    "    Tiempo total de viaje: {sum(minutos)} minutos\n",
    "    Total de combustible: {sum(combustible_reserva.values())}\n",
    "    \"\"\"\n",
    "    for nom_tanque, galones in combustible_reserva.items():\n",
    "        reporte_principal += f\"{nom_tanque} tanque --> {galones} galones restantes\\n\"\n",
    "    return reporte_principal\n",
    "\n",
    "print(reporte(\"Marte\", 10, 9, 30, interno = 300000, externo = 100000),)"
   ]
  }
 ],
 "metadata": {
  "interpreter": {
   "hash": "ac59ebe37160ed0dfa835113d9b8498d9f09ceb179beaac4002f036b9467c963"
  },
  "kernelspec": {
   "display_name": "Python 3.9.7 64-bit",
   "language": "python",
   "name": "python3"
  },
  "language_info": {
   "codemirror_mode": {
    "name": "ipython",
    "version": 3
   },
   "file_extension": ".py",
   "mimetype": "text/x-python",
   "name": "python",
   "nbconvert_exporter": "python",
   "pygments_lexer": "ipython3",
   "version": "3.9.7"
  },
  "orig_nbformat": 4
 },
 "nbformat": 4,
 "nbformat_minor": 2
}
